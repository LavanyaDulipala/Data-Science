{
 "cells": [
  {
   "cell_type": "markdown",
   "id": "fbf43c7d",
   "metadata": {},
   "source": [
    "## LAVANYA FIRST JUPYTER NOTE TEST ON 7th Jan 2024"
   ]
  },
  {
   "cell_type": "code",
   "execution_count": null,
   "id": "e8fc9dfa",
   "metadata": {},
   "outputs": [],
   "source": [
    "print(\"Hello World!\")"
   ]
  },
  {
   "cell_type": "code",
   "execution_count": 3,
   "id": "a2b0f3d1",
   "metadata": {},
   "outputs": [
    {
     "data": {
      "text/plain": [
       "25"
      ]
     },
     "execution_count": 3,
     "metadata": {},
     "output_type": "execute_result"
    }
   ],
   "source": [
    "10+15\n"
   ]
  },
  {
   "cell_type": "code",
   "execution_count": null,
   "id": "6baa12cd",
   "metadata": {},
   "outputs": [],
   "source": []
  },
  {
   "cell_type": "code",
   "execution_count": null,
   "id": "fd0c73ff",
   "metadata": {},
   "outputs": [],
   "source": []
  },
  {
   "cell_type": "code",
   "execution_count": null,
   "id": "17f4ec9b",
   "metadata": {},
   "outputs": [],
   "source": []
  },
  {
   "cell_type": "code",
   "execution_count": null,
   "id": "087506ea",
   "metadata": {},
   "outputs": [],
   "source": []
  },
  {
   "cell_type": "code",
   "execution_count": null,
   "id": "b5ca6ce6",
   "metadata": {},
   "outputs": [],
   "source": []
  },
  {
   "cell_type": "code",
   "execution_count": null,
   "id": "da8b5637",
   "metadata": {},
   "outputs": [],
   "source": []
  },
  {
   "cell_type": "code",
   "execution_count": 8,
   "id": "66e8cafa",
   "metadata": {},
   "outputs": [
    {
     "data": {
      "text/plain": [
       "1.6666666666666667"
      ]
     },
     "execution_count": 8,
     "metadata": {},
     "output_type": "execute_result"
    }
   ],
   "source": [
    "10/6"
   ]
  },
  {
   "cell_type": "code",
   "execution_count": 5,
   "id": "a7c2aabf",
   "metadata": {},
   "outputs": [
    {
     "data": {
      "text/plain": [
       "90"
      ]
     },
     "execution_count": 5,
     "metadata": {},
     "output_type": "execute_result"
    }
   ],
   "source": [
    "10*9"
   ]
  },
  {
   "cell_type": "markdown",
   "id": "bf6054c5",
   "metadata": {},
   "source": [
    "print(15+15)"
   ]
  },
  {
   "cell_type": "markdown",
   "id": "e6ce6f3f",
   "metadata": {},
   "source": [
    "jupyter notebook"
   ]
  },
  {
   "cell_type": "markdown",
   "id": "fa08d2e7",
   "metadata": {},
   "source": [
    "# # LAVANYA FIRST JUPYTER NOTE TEST 7th Jan 2024"
   ]
  },
  {
   "cell_type": "code",
   "execution_count": null,
   "id": "5600ead8",
   "metadata": {},
   "outputs": [],
   "source": []
  }
 ],
 "metadata": {
  "kernelspec": {
   "display_name": "Python 3 (ipykernel)",
   "language": "python",
   "name": "python3"
  },
  "language_info": {
   "codemirror_mode": {
    "name": "ipython",
    "version": 3
   },
   "file_extension": ".py",
   "mimetype": "text/x-python",
   "name": "python",
   "nbconvert_exporter": "python",
   "pygments_lexer": "ipython3",
   "version": "3.11.5"
  }
 },
 "nbformat": 4,
 "nbformat_minor": 5
}
